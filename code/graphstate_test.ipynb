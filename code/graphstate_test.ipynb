{
 "cells": [
  {
   "cell_type": "code",
   "execution_count": 1,
   "id": "488e4ca5-733f-4b97-b48d-609627d82775",
   "metadata": {},
   "outputs": [
    {
     "name": "stdout",
     "output_type": "stream",
     "text": [
      "Account enabled\n",
      "Provider: ibm-q-melbourne\n"
     ]
    }
   ],
   "source": [
    "from time import time\n",
    "\n",
    "from qiskit import transpile\n",
    "\n",
    "from utilities import startup\n",
    "from graphstate import GraphState, calc_negativities, calc_n_mean, plot_cxerr_corr\n",
    "from entanglebase import EntangleBase\n",
    "\n",
    "provider = startup()"
   ]
  },
  {
   "cell_type": "code",
   "execution_count": 2,
   "id": "2119334f-6f84-4aea-94bf-cca61b380310",
   "metadata": {},
   "outputs": [
    {
     "data": {
      "text/html": [
       "<pre style=\"word-wrap: normal;white-space: pre;background: #fff0;line-height: 1.1;font-family: &quot;Courier New&quot;,Courier,monospace\">     ┌───┐         \n",
       "q_0: ┤ H ├─■───────\n",
       "     ├───┤ │       \n",
       "q_1: ┤ H ├─■──■──■─\n",
       "     ├───┤    │  │ \n",
       "q_2: ┤ H ├────■──┼─\n",
       "     ├───┤       │ \n",
       "q_3: ┤ H ├─■─────■─\n",
       "     ├───┤ │       \n",
       "q_4: ┤ H ├─┼──■────\n",
       "     ├───┤ │  │    \n",
       "q_5: ┤ H ├─■──■──■─\n",
       "     ├───┤       │ \n",
       "q_6: ┤ H ├───────■─\n",
       "     └───┘         </pre>"
      ],
      "text/plain": [
       "     ┌───┐         \n",
       "q_0: ┤ H ├─■───────\n",
       "     ├───┤ │       \n",
       "q_1: ┤ H ├─■──■──■─\n",
       "     ├───┤    │  │ \n",
       "q_2: ┤ H ├────■──┼─\n",
       "     ├───┤       │ \n",
       "q_3: ┤ H ├─■─────■─\n",
       "     ├───┤ │       \n",
       "q_4: ┤ H ├─┼──■────\n",
       "     ├───┤ │  │    \n",
       "q_5: ┤ H ├─■──■──■─\n",
       "     ├───┤       │ \n",
       "q_6: ┤ H ├───────■─\n",
       "     └───┘         "
      ]
     },
     "execution_count": 2,
     "metadata": {},
     "output_type": "execute_result"
    }
   ],
   "source": [
    "backend = provider.get_backend('ibm_perth')\n",
    "test = GraphState(backend)\n",
    "circ = test.circuit\n",
    "circ.draw()"
   ]
  },
  {
   "cell_type": "code",
   "execution_count": 10,
   "id": "641fa895-86ec-4122-947d-54b09f1b95f1",
   "metadata": {},
   "outputs": [
    {
     "name": "stdout",
     "output_type": "stream",
     "text": [
      "127 142\n"
     ]
    }
   ],
   "source": [
    "backend = provider.get_backend('ibm_washington')\n",
    "test = GraphState(backend)\n",
    "print(test.nqubits, test.nedges)"
   ]
  },
  {
   "cell_type": "code",
   "execution_count": 27,
   "id": "de8f0a43-eb9c-468f-ba7a-5b5699758a0d",
   "metadata": {},
   "outputs": [],
   "source": [
    "from networkx import hexagonal_lattice_graph\n",
    "import networkx as nx\n",
    "import matplotlib.pyplot as plt"
   ]
  },
  {
   "cell_type": "code",
   "execution_count": 30,
   "id": "d891a89f-6ecf-4bae-8392-7accf56fe350",
   "metadata": {},
   "outputs": [
    {
     "data": {
      "text/plain": [
       "<matplotlib.collections.PathCollection at 0x29dd4a41580>"
      ]
     },
     "execution_count": 30,
     "metadata": {},
     "output_type": "execute_result"
    },
    {
     "data": {
      "image/png": "[encoded data removed]",
      "text/plain": [
       "<Figure size 432x288 with 1 Axes>"
      ]
     },
     "metadata": {
      "needs_background": "light"
     },
     "output_type": "display_data"
    }
   ],
   "source": [
    "nedges = []\n",
    "nnodes = []\n",
    "for i in range(1, 21):\n",
    "    for j in range(1, 21):\n",
    "        G = nx.hexagonal_lattice_graph(i, j)\n",
    "\n",
    "        nnodes.append(len(G.nodes))\n",
    "        nedges.append(len(G.edges))\n",
    "    \n",
    "plt.scatter(nedges, nnodes)"
   ]
  },
  {
   "cell_type": "code",
   "execution_count": 23,
   "id": "d97d29e7-9232-40d9-a8d4-4998d29ddd68",
   "metadata": {},
   "outputs": [
    {
     "data": {
      "text/plain": [
       "30"
      ]
     },
     "execution_count": 23,
     "metadata": {},
     "output_type": "execute_result"
    }
   ],
   "source": [
    "G = hexagonal_lattice_graph(3, 3)\n",
    "len(G.nodes)"
   ]
  },
  {
   "cell_type": "code",
   "execution_count": 4,
   "id": "d52f4ef9-c54c-41db-ad04-062f0a1a4845",
   "metadata": {},
   "outputs": [],
   "source": [
    "circuits = test.gen_qst_circuits()"
   ]
  },
  {
   "cell_type": "code",
   "execution_count": 11,
   "id": "2a3920fc-8b83-43b0-a564-cf70dde3c6a9",
   "metadata": {},
   "outputs": [
    {
     "data": {
      "text/html": [
       "<pre style=\"word-wrap: normal;white-space: pre;background: #fff0;line-height: 1.1;font-family: &quot;Courier New&quot;,Courier,monospace\">      ┌───┐          ░ ┌───┐   ┌─┐   \n",
       " q_0: ┤ H ├─■────────░─┤ H ├───┤M├───\n",
       "      ├───┤ │        ░ ├───┤   └╥┘┌─┐\n",
       " q_1: ┤ H ├─■──■──■──░─┤ H ├────╫─┤M├\n",
       "      ├───┤    │  │  ░ └┬─┬┘    ║ └╥┘\n",
       " q_2: ┤ H ├────■──┼──░──┤M├─────╫──╫─\n",
       "      ├───┤       │  ░  └╥┘ ┌─┐ ║  ║ \n",
       " q_3: ┤ H ├─■─────■──░───╫──┤M├─╫──╫─\n",
       "      ├───┤ │        ░   ║  └╥┘ ║  ║ \n",
       " q_4: ┤ H ├─┼──■─────░───╫───╫──╫──╫─\n",
       "      ├───┤ │  │     ░   ║   ║  ║  ║ \n",
       " q_5: ┤ H ├─■──■──■──░───╫───╫──╫──╫─\n",
       "      ├───┤       │  ░   ║   ║  ║  ║ \n",
       " q_6: ┤ H ├───────■──░───╫───╫──╫──╫─\n",
       "      └───┘          ░   ║   ║  ║  ║ \n",
       "c0: 4/═══════════════════╩═══╩══╩══╩═\n",
       "                         2   3  0  1 </pre>"
      ],
      "text/plain": [
       "      ┌───┐          ░ ┌───┐   ┌─┐   \n",
       " q_0: ┤ H ├─■────────░─┤ H ├───┤M├───\n",
       "      ├───┤ │        ░ ├───┤   └╥┘┌─┐\n",
       " q_1: ┤ H ├─■──■──■──░─┤ H ├────╫─┤M├\n",
       "      ├───┤    │  │  ░ └┬─┬┘    ║ └╥┘\n",
       " q_2: ┤ H ├────■──┼──░──┤M├─────╫──╫─\n",
       "      ├───┤       │  ░  └╥┘ ┌─┐ ║  ║ \n",
       " q_3: ┤ H ├─■─────■──░───╫──┤M├─╫──╫─\n",
       "      ├───┤ │        ░   ║  └╥┘ ║  ║ \n",
       " q_4: ┤ H ├─┼──■─────░───╫───╫──╫──╫─\n",
       "      ├───┤ │  │     ░   ║   ║  ║  ║ \n",
       " q_5: ┤ H ├─■──■──■──░───╫───╫──╫──╫─\n",
       "      ├───┤       │  ░   ║   ║  ║  ║ \n",
       " q_6: ┤ H ├───────■──░───╫───╫──╫──╫─\n",
       "      └───┘          ░   ║   ║  ║  ║ \n",
       "c0: 4/═══════════════════╩═══╩══╩══╩═\n",
       "                         2   3  0  1 "
      ]
     },
     "execution_count": 11,
     "metadata": {},
     "output_type": "execute_result"
    }
   ],
   "source": [
    "circuits['batch0']['XX'].draw()"
   ]
  },
  {
   "cell_type": "code",
   "execution_count": 3,
   "id": "96582e89-f317-4178-a33f-9a2cd4b63a02",
   "metadata": {},
   "outputs": [
    {
     "data": {
      "text/html": [
       "<pre style=\"word-wrap: normal;white-space: pre;background: #fff0;line-height: 1.1;font-family: &quot;Courier New&quot;,Courier,monospace\">           ┌─────────┐┌────┐┌─────────┐                                      »\n",
       "  q_0 -> 0 ┤ Rz(π/2) ├┤ √X ├┤ Rz(π/2) ├──■───────────────────────────────────»\n",
       "           └─────────┘└────┘└─────────┘┌─┴─┐┌─────────┐   ┌────┐  ┌─────────┐»\n",
       "  q_1 -> 1 ────────────────────────────┤ X ├┤ Rz(π/2) ├───┤ √X ├──┤ Rz(π/2) ├»\n",
       "           ┌─────────┐┌────┐ ┌───────┐ └───┘└──┬────┬─┘┌──┴────┴─┐└─────────┘»\n",
       "  q_2 -> 2 ┤ Rz(π/2) ├┤ √X ├─┤ Rz(π) ├───■─────┤ √X ├──┤ Rz(π/2) ├───────────»\n",
       "           └─────────┘└────┘ └───────┘ ┌─┴─┐┌──┴────┴─┐└──┬────┬─┘┌─────────┐»\n",
       "  q_3 -> 3 ────────────────────────────┤ X ├┤ Rz(π/2) ├───┤ √X ├──┤ Rz(π/2) ├»\n",
       "           ┌─────────┐┌────┐ ┌───────┐ └───┘└──┬────┬─┘┌──┴────┴─┐└─────────┘»\n",
       "  q_4 -> 4 ┤ Rz(π/2) ├┤ √X ├─┤ Rz(π) ├───■─────┤ √X ├──┤ Rz(π/2) ├───────────»\n",
       "           ├─────────┤├────┤ ├───────┤   │     └────┘  └──┬────┬─┘┌─────────┐»\n",
       "  q_5 -> 5 ┤ Rz(π/2) ├┤ √X ├─┤ Rz(π) ├───┼───────■────────┤ √X ├──┤ Rz(π/2) ├»\n",
       "           ├─────────┤├────┤┌┴───────┴┐  │       │        └────┘  └─────────┘»\n",
       "  q_6 -> 6 ┤ Rz(π/2) ├┤ √X ├┤ Rz(π/2) ├──┼───────┼──────────■────────────────»\n",
       "           └─────────┘└────┘└─────────┘┌─┴─┐     │        ┌─┴─┐   ┌─────────┐»\n",
       "  q_7 -> 7 ────────────────────────────┤ X ├─────┼────────┤ X ├───┤ Rz(π/2) ├»\n",
       "                                       └───┘   ┌─┴─┐   ┌──┴───┴──┐└──┬────┬─┘»\n",
       "  q_8 -> 8 ────────────────────────────────────┤ X ├───┤ Rz(π/2) ├───┤ √X ├──»\n",
       "                                               └───┘   └─────────┘   └────┘  »\n",
       "  q_9 -> 9 ──────────────────────────────────────────────────────────────────»\n",
       "           ┌─────────┐┌────┐ ┌───────┐         ┌────┐  ┌─────────┐           »\n",
       "q_10 -> 10 ┤ Rz(π/2) ├┤ √X ├─┤ Rz(π) ├───■─────┤ √X ├──┤ Rz(π/2) ├───────────»\n",
       "           ├─────────┤├────┤ ├───────┤   │     └────┘  └──┬────┬─┘┌─────────┐»\n",
       "q_11 -> 11 ┤ Rz(π/2) ├┤ √X ├─┤ Rz(π) ├───┼───────■────────┤ √X ├──┤ Rz(π/2) ├»\n",
       "           └─────────┘└────┘ └───────┘ ┌─┴─┐     │     ┌──┴────┴─┐└──┬────┬─┘»\n",
       "q_12 -> 12 ────────────────────────────┤ X ├─────┼─────┤ Rz(π/2) ├───┤ √X ├──»\n",
       "                                       └───┘     │     └─────────┘   └────┘  »\n",
       "q_13 -> 13 ──────────────────────────────────────┼───────────────────────────»\n",
       "                                               ┌─┴─┐   ┌─────────┐   ┌────┐  »\n",
       "q_14 -> 14 ────────────────────────────────────┤ X ├───┤ Rz(π/2) ├───┤ √X ├──»\n",
       "           ┌─────────┐┌────┐ ┌───────┐         ├───┴┐  ├─────────┤   └────┘  »\n",
       "q_15 -> 15 ┤ Rz(π/2) ├┤ √X ├─┤ Rz(π) ├───■─────┤ √X ├──┤ Rz(π/2) ├───────────»\n",
       "           ├─────────┤├────┤ ├───────┤   │     └────┘  └──┬────┬─┘┌─────────┐»\n",
       "q_16 -> 16 ┤ Rz(π/2) ├┤ √X ├─┤ Rz(π) ├───┼───────■────────┤ √X ├──┤ Rz(π/2) ├»\n",
       "           ├─────────┤├────┤┌┴───────┴┐  │       │        └────┘  └─────────┘»\n",
       "q_17 -> 17 ┤ Rz(π/2) ├┤ √X ├┤ Rz(π/2) ├──┼───────┼──────────■────────────────»\n",
       "           └─────────┘└────┘└─────────┘┌─┴─┐     │        ┌─┴─┐   ┌─────────┐»\n",
       "q_18 -> 18 ────────────────────────────┤ X ├─────┼────────┤ X ├───┤ Rz(π/2) ├»\n",
       "                                       └───┘   ┌─┴─┐   ┌──┴───┴──┐└──┬────┬─┘»\n",
       "q_19 -> 19 ────────────────────────────────────┤ X ├───┤ Rz(π/2) ├───┤ √X ├──»\n",
       "                                               └───┘   └─────────┘   └────┘  »\n",
       "q_20 -> 20 ──────────────────────────────────────────────────────────────────»\n",
       "           ┌─────────┐┌────┐ ┌───────┐         ┌────┐  ┌─────────┐           »\n",
       "q_21 -> 21 ┤ Rz(π/2) ├┤ √X ├─┤ Rz(π) ├───■─────┤ √X ├──┤ Rz(π/2) ├───────────»\n",
       "           ├─────────┤├────┤ ├───────┤   │     └────┘  └──┬────┬─┘┌─────────┐»\n",
       "q_22 -> 22 ┤ Rz(π/2) ├┤ √X ├─┤ Rz(π) ├───┼───────■────────┤ √X ├──┤ Rz(π/2) ├»\n",
       "           └─────────┘└────┘ └───────┘ ┌─┴─┐     │     ┌──┴────┴─┐└──┬────┬─┘»\n",
       "q_23 -> 23 ────────────────────────────┤ X ├─────┼─────┤ Rz(π/2) ├───┤ √X ├──»\n",
       "                                       └───┘     │     └─────────┘   └────┘  »\n",
       "q_24 -> 24 ──────────────────────────────────────┼───────────────────────────»\n",
       "                                               ┌─┴─┐   ┌─────────┐   ┌────┐  »\n",
       "q_25 -> 25 ────────────────────────────────────┤ X ├───┤ Rz(π/2) ├───┤ √X ├──»\n",
       "                                               └───┘   └─────────┘   └────┘  »\n",
       "q_26 -> 26 ──────────────────────────────────────────────────────────────────»\n",
       "                                                                             »\n",
       "«                                                                             »\n",
       "«  q_0 -> 0 ──────────────────────────────────────────────────────────────────»\n",
       "«                                                                             »\n",
       "«  q_1 -> 1 ─────■─────────────────────■──────────────────────────────────────»\n",
       "«              ┌─┴─┐   ┌─────────┐     │        ┌────┐  ┌─────────┐           »\n",
       "«  q_2 -> 2 ───┤ X ├───┤ Rz(π/2) ├─────┼────────┤ √X ├──┤ Rz(π/2) ├───────────»\n",
       "«              └───┘   └─────────┘     │        └────┘  └─────────┘           »\n",
       "«  q_3 -> 3 ─────■─────────────────────┼──────────────────────────────────────»\n",
       "«                │                   ┌─┴─┐   ┌─────────┐   ┌────┐  ┌─────────┐»\n",
       "«  q_4 -> 4 ─────┼───────────────────┤ X ├───┤ Rz(π/2) ├───┤ √X ├──┤ Rz(π/2) ├»\n",
       "«              ┌─┴─┐   ┌─────────┐   ├───┴┐  ├─────────┤   └────┘  └─────────┘»\n",
       "«  q_5 -> 5 ───┤ X ├───┤ Rz(π/2) ├───┤ √X ├──┤ Rz(π/2) ├──────────────────────»\n",
       "«              └───┘   └─────────┘   └────┘  └─────────┘                      »\n",
       "«  q_6 -> 6 ──────────────────────────────────────────────────────────────────»\n",
       "«              ┌────┐  ┌─────────┐                                            »\n",
       "«  q_7 -> 7 ───┤ √X ├──┤ Rz(π/2) ├────────────────■───────────────────────────»\n",
       "«           ┌──┴────┴─┐└─────────┘                │                           »\n",
       "«  q_8 -> 8 ┤ Rz(π/2) ├─────■─────────────────────┼──────────■────────────────»\n",
       "«           └─────────┘   ┌─┴─┐   ┌─────────┐     │          │        ┌────┐  »\n",
       "«  q_9 -> 9 ──────────────┤ X ├───┤ Rz(π/2) ├─────┼──────────┼────────┤ √X ├──»\n",
       "«                         └───┘   └─────────┘   ┌─┴─┐        │     ┌──┴────┴─┐»\n",
       "«q_10 -> 10 ────────────────────────────────────┤ X ├────────┼─────┤ Rz(π/2) ├»\n",
       "«                                               └───┘      ┌─┴─┐   ├─────────┤»\n",
       "«q_11 -> 11 ───────────────────────────────────────────────┤ X ├───┤ Rz(π/2) ├»\n",
       "«           ┌─────────┐                                    └───┘   └─────────┘»\n",
       "«q_12 -> 12 ┤ Rz(π/2) ├─────■─────────────────────■───────────────────────────»\n",
       "«           └─────────┘   ┌─┴─┐   ┌─────────┐     │        ┌────┐  ┌─────────┐»\n",
       "«q_13 -> 13 ──────────────┤ X ├───┤ Rz(π/2) ├─────┼────────┤ √X ├──┤ Rz(π/2) ├»\n",
       "«            ┌───────┐    └───┘   └──┬────┬─┘     │     ┌──┴────┴─┐└─────────┘»\n",
       "«q_14 -> 14 ─┤ Rz(π) ├──────■────────┤ √X ├───────┼─────┤ Rz(π/2) ├───────────»\n",
       "«            └───────┘      │        └────┘     ┌─┴─┐   ├─────────┤   ┌────┐  »\n",
       "«q_15 -> 15 ────────────────┼───────────────────┤ X ├───┤ Rz(π/2) ├───┤ √X ├──»\n",
       "«                         ┌─┴─┐   ┌─────────┐   ├───┴┐  ├─────────┤   └────┘  »\n",
       "«q_16 -> 16 ──────────────┤ X ├───┤ Rz(π/2) ├───┤ √X ├──┤ Rz(π/2) ├───────────»\n",
       "«                         └───┘   └─────────┘   └────┘  └─────────┘           »\n",
       "«q_17 -> 17 ──────────────────────────────────────────────────────────────────»\n",
       "«              ┌────┐  ┌─────────┐                                            »\n",
       "«q_18 -> 18 ───┤ √X ├──┤ Rz(π/2) ├────────────────■───────────────────────────»\n",
       "«           ┌──┴────┴─┐└─────────┘                │                           »\n",
       "«q_19 -> 19 ┤ Rz(π/2) ├─────■─────────────────────┼──────────■────────────────»\n",
       "«           └─────────┘   ┌─┴─┐   ┌─────────┐     │          │        ┌────┐  »\n",
       "«q_20 -> 20 ──────────────┤ X ├───┤ Rz(π/2) ├─────┼──────────┼────────┤ √X ├──»\n",
       "«                         └───┘   └─────────┘   ┌─┴─┐        │     ┌──┴────┴─┐»\n",
       "«q_21 -> 21 ────────────────────────────────────┤ X ├────────┼─────┤ Rz(π/2) ├»\n",
       "«                                               └───┘      ┌─┴─┐   ├─────────┤»\n",
       "«q_22 -> 22 ───────────────────────────────────────────────┤ X ├───┤ Rz(π/2) ├»\n",
       "«           ┌─────────┐                                    └───┘   └─────────┘»\n",
       "«q_23 -> 23 ┤ Rz(π/2) ├─────■─────────────────────────────────────────────────»\n",
       "«           └─────────┘   ┌─┴─┐   ┌─────────┐   ┌────┐  ┌─────────┐           »\n",
       "«q_24 -> 24 ──────────────┤ X ├───┤ Rz(π/2) ├───┤ √X ├──┤ Rz(π/2) ├─────■─────»\n",
       "«            ┌───────┐    └───┘   └──┬────┬─┘┌──┴────┴─┐└─────────┘   ┌─┴─┐   »\n",
       "«q_25 -> 25 ─┤ Rz(π) ├──────■────────┤ √X ├──┤ Rz(π/2) ├──────────────┤ X ├───»\n",
       "«            └───────┘    ┌─┴─┐   ┌──┴────┴─┐└──┬────┬─┘┌─────────┐   └───┘   »\n",
       "«q_26 -> 26 ──────────────┤ X ├───┤ Rz(π/2) ├───┤ √X ├──┤ Rz(π/2) ├───────────»\n",
       "«                         └───┘   └─────────┘   └────┘  └─────────┘           »\n",
       "«                                                       \n",
       "«  q_0 -> 0 ────────────────────────────────────────────\n",
       "«                                                       \n",
       "«  q_1 -> 1 ────────────────────────────────────────────\n",
       "«                                                       \n",
       "«  q_2 -> 2 ────────────────────────────────────────────\n",
       "«                                                       \n",
       "«  q_3 -> 3 ────────────────────────────────────────────\n",
       "«                                                       \n",
       "«  q_4 -> 4 ────────────────────────────────────────────\n",
       "«                                                       \n",
       "«  q_5 -> 5 ────────────────────────────────────────────\n",
       "«                                                       \n",
       "«  q_6 -> 6 ────────────────────────────────────────────\n",
       "«                                                       \n",
       "«  q_7 -> 7 ────────────────────────────────────────────\n",
       "«                                                       \n",
       "«  q_8 -> 8 ────────────────────────────────────────────\n",
       "«           ┌─────────┐                                 \n",
       "«  q_9 -> 9 ┤ Rz(π/2) ├─────────────────────────────────\n",
       "«           └──┬────┬─┘┌─────────┐                      \n",
       "«q_10 -> 10 ───┤ √X ├──┤ Rz(π/2) ├──────────────────────\n",
       "«              ├────┤  ├─────────┤                      \n",
       "«q_11 -> 11 ───┤ √X ├──┤ Rz(π/2) ├──────────────────────\n",
       "«              └────┘  └─────────┘                      \n",
       "«q_12 -> 12 ────────────────────────────────────────────\n",
       "«                                                       \n",
       "«q_13 -> 13 ─────■──────────────────────────────────────\n",
       "«              ┌─┴─┐   ┌─────────┐   ┌────┐  ┌─────────┐\n",
       "«q_14 -> 14 ───┤ X ├───┤ Rz(π/2) ├───┤ √X ├──┤ Rz(π/2) ├\n",
       "«           ┌──┴───┴──┐└─────────┘   └────┘  └─────────┘\n",
       "«q_15 -> 15 ┤ Rz(π/2) ├─────────────────────────────────\n",
       "«           └─────────┘                                 \n",
       "«q_16 -> 16 ────────────────────────────────────────────\n",
       "«                                                       \n",
       "«q_17 -> 17 ────────────────────────────────────────────\n",
       "«                                                       \n",
       "«q_18 -> 18 ────────────────────────────────────────────\n",
       "«                                                       \n",
       "«q_19 -> 19 ────────────────────────────────────────────\n",
       "«           ┌─────────┐                                 \n",
       "«q_20 -> 20 ┤ Rz(π/2) ├─────────────────────────────────\n",
       "«           └──┬────┬─┘┌─────────┐                      \n",
       "«q_21 -> 21 ───┤ √X ├──┤ Rz(π/2) ├──────────────────────\n",
       "«              ├────┤  ├─────────┤                      \n",
       "«q_22 -> 22 ───┤ √X ├──┤ Rz(π/2) ├──────────────────────\n",
       "«              └────┘  └─────────┘                      \n",
       "«q_23 -> 23 ────────────────────────────────────────────\n",
       "«                                                       \n",
       "«q_24 -> 24 ────────────────────────────────────────────\n",
       "«           ┌─────────┐   ┌────┐  ┌─────────┐           \n",
       "«q_25 -> 25 ┤ Rz(π/2) ├───┤ √X ├──┤ Rz(π/2) ├───────────\n",
       "«           └─────────┘   └────┘  └─────────┘           \n",
       "«q_26 -> 26 ────────────────────────────────────────────\n",
       "«                                                       </pre>"
      ],
      "text/plain": [
       "           ┌─────────┐┌────┐┌─────────┐                                      »\n",
       "  q_0 -> 0 ┤ Rz(π/2) ├┤ √X ├┤ Rz(π/2) ├──■───────────────────────────────────»\n",
       "           └─────────┘└────┘└─────────┘┌─┴─┐┌─────────┐   ┌────┐  ┌─────────┐»\n",
       "  q_1 -> 1 ────────────────────────────┤ X ├┤ Rz(π/2) ├───┤ √X ├──┤ Rz(π/2) ├»\n",
       "           ┌─────────┐┌────┐ ┌───────┐ └───┘└──┬────┬─┘┌──┴────┴─┐└─────────┘»\n",
       "  q_2 -> 2 ┤ Rz(π/2) ├┤ √X ├─┤ Rz(π) ├───■─────┤ √X ├──┤ Rz(π/2) ├───────────»\n",
       "           └─────────┘└────┘ └───────┘ ┌─┴─┐┌──┴────┴─┐└──┬────┬─┘┌─────────┐»\n",
       "  q_3 -> 3 ────────────────────────────┤ X ├┤ Rz(π/2) ├───┤ √X ├──┤ Rz(π/2) ├»\n",
       "           ┌─────────┐┌────┐ ┌───────┐ └───┘└──┬────┬─┘┌──┴────┴─┐└─────────┘»\n",
       "  q_4 -> 4 ┤ Rz(π/2) ├┤ √X ├─┤ Rz(π) ├───■─────┤ √X ├──┤ Rz(π/2) ├───────────»\n",
       "           ├─────────┤├────┤ ├───────┤   │     └────┘  └──┬────┬─┘┌─────────┐»\n",
       "  q_5 -> 5 ┤ Rz(π/2) ├┤ √X ├─┤ Rz(π) ├───┼───────■────────┤ √X ├──┤ Rz(π/2) ├»\n",
       "           ├─────────┤├────┤┌┴───────┴┐  │       │        └────┘  └─────────┘»\n",
       "  q_6 -> 6 ┤ Rz(π/2) ├┤ √X ├┤ Rz(π/2) ├──┼───────┼──────────■────────────────»\n",
       "           └─────────┘└────┘└─────────┘┌─┴─┐     │        ┌─┴─┐   ┌─────────┐»\n",
       "  q_7 -> 7 ────────────────────────────┤ X ├─────┼────────┤ X ├───┤ Rz(π/2) ├»\n",
       "                                       └───┘   ┌─┴─┐   ┌──┴───┴──┐└──┬────┬─┘»\n",
       "  q_8 -> 8 ────────────────────────────────────┤ X ├───┤ Rz(π/2) ├───┤ √X ├──»\n",
       "                                               └───┘   └─────────┘   └────┘  »\n",
       "  q_9 -> 9 ──────────────────────────────────────────────────────────────────»\n",
       "           ┌─────────┐┌────┐ ┌───────┐         ┌────┐  ┌─────────┐           »\n",
       "q_10 -> 10 ┤ Rz(π/2) ├┤ √X ├─┤ Rz(π) ├───■─────┤ √X ├──┤ Rz(π/2) ├───────────»\n",
       "           ├─────────┤├────┤ ├───────┤   │     └────┘  └──┬────┬─┘┌─────────┐»\n",
       "q_11 -> 11 ┤ Rz(π/2) ├┤ √X ├─┤ Rz(π) ├───┼───────■────────┤ √X ├──┤ Rz(π/2) ├»\n",
       "           └─────────┘└────┘ └───────┘ ┌─┴─┐     │     ┌──┴────┴─┐└──┬────┬─┘»\n",
       "q_12 -> 12 ────────────────────────────┤ X ├─────┼─────┤ Rz(π/2) ├───┤ √X ├──»\n",
       "                                       └───┘     │     └─────────┘   └────┘  »\n",
       "q_13 -> 13 ──────────────────────────────────────┼───────────────────────────»\n",
       "                                               ┌─┴─┐   ┌─────────┐   ┌────┐  »\n",
       "q_14 -> 14 ────────────────────────────────────┤ X ├───┤ Rz(π/2) ├───┤ √X ├──»\n",
       "           ┌─────────┐┌────┐ ┌───────┐         ├───┴┐  ├─────────┤   └────┘  »\n",
       "q_15 -> 15 ┤ Rz(π/2) ├┤ √X ├─┤ Rz(π) ├───■─────┤ √X ├──┤ Rz(π/2) ├───────────»\n",
       "           ├─────────┤├────┤ ├───────┤   │     └────┘  └──┬────┬─┘┌─────────┐»\n",
       "q_16 -> 16 ┤ Rz(π/2) ├┤ √X ├─┤ Rz(π) ├───┼───────■────────┤ √X ├──┤ Rz(π/2) ├»\n",
       "           ├─────────┤├────┤┌┴───────┴┐  │       │        └────┘  └─────────┘»\n",
       "q_17 -> 17 ┤ Rz(π/2) ├┤ √X ├┤ Rz(π/2) ├──┼───────┼──────────■────────────────»\n",
       "           └─────────┘└────┘└─────────┘┌─┴─┐     │        ┌─┴─┐   ┌─────────┐»\n",
       "q_18 -> 18 ────────────────────────────┤ X ├─────┼────────┤ X ├───┤ Rz(π/2) ├»\n",
       "                                       └───┘   ┌─┴─┐   ┌──┴───┴──┐└──┬────┬─┘»\n",
       "q_19 -> 19 ────────────────────────────────────┤ X ├───┤ Rz(π/2) ├───┤ √X ├──»\n",
       "                                               └───┘   └─────────┘   └────┘  »\n",
       "q_20 -> 20 ──────────────────────────────────────────────────────────────────»\n",
       "           ┌─────────┐┌────┐ ┌───────┐         ┌────┐  ┌─────────┐           »\n",
       "q_21 -> 21 ┤ Rz(π/2) ├┤ √X ├─┤ Rz(π) ├───■─────┤ √X ├──┤ Rz(π/2) ├───────────»\n",
       "           ├─────────┤├────┤ ├───────┤   │     └────┘  └──┬────┬─┘┌─────────┐»\n",
       "q_22 -> 22 ┤ Rz(π/2) ├┤ √X ├─┤ Rz(π) ├───┼───────■────────┤ √X ├──┤ Rz(π/2) ├»\n",
       "           └─────────┘└────┘ └───────┘ ┌─┴─┐     │     ┌──┴────┴─┐└──┬────┬─┘»\n",
       "q_23 -> 23 ────────────────────────────┤ X ├─────┼─────┤ Rz(π/2) ├───┤ √X ├──»\n",
       "                                       └───┘     │     └─────────┘   └────┘  »\n",
       "q_24 -> 24 ──────────────────────────────────────┼───────────────────────────»\n",
       "                                               ┌─┴─┐   ┌─────────┐   ┌────┐  »\n",
       "q_25 -> 25 ────────────────────────────────────┤ X ├───┤ Rz(π/2) ├───┤ √X ├──»\n",
       "                                               └───┘   └─────────┘   └────┘  »\n",
       "q_26 -> 26 ──────────────────────────────────────────────────────────────────»\n",
       "                                                                             »\n",
       "«                                                                             »\n",
       "«  q_0 -> 0 ──────────────────────────────────────────────────────────────────»\n",
       "«                                                                             »\n",
       "«  q_1 -> 1 ─────■─────────────────────■──────────────────────────────────────»\n",
       "«              ┌─┴─┐   ┌─────────┐     │        ┌────┐  ┌─────────┐           »\n",
       "«  q_2 -> 2 ───┤ X ├───┤ Rz(π/2) ├─────┼────────┤ √X ├──┤ Rz(π/2) ├───────────»\n",
       "«              └───┘   └─────────┘     │        └────┘  └─────────┘           »\n",
       "«  q_3 -> 3 ─────■─────────────────────┼──────────────────────────────────────»\n",
       "«                │                   ┌─┴─┐   ┌─────────┐   ┌────┐  ┌─────────┐»\n",
       "«  q_4 -> 4 ─────┼───────────────────┤ X ├───┤ Rz(π/2) ├───┤ √X ├──┤ Rz(π/2) ├»\n",
       "«              ┌─┴─┐   ┌─────────┐   ├───┴┐  ├─────────┤   └────┘  └─────────┘»\n",
       "«  q_5 -> 5 ───┤ X ├───┤ Rz(π/2) ├───┤ √X ├──┤ Rz(π/2) ├──────────────────────»\n",
       "«              └───┘   └─────────┘   └────┘  └─────────┘                      »\n",
       "«  q_6 -> 6 ──────────────────────────────────────────────────────────────────»\n",
       "«              ┌────┐  ┌─────────┐                                            »\n",
       "«  q_7 -> 7 ───┤ √X ├──┤ Rz(π/2) ├────────────────■───────────────────────────»\n",
       "«           ┌──┴────┴─┐└─────────┘                │                           »\n",
       "«  q_8 -> 8 ┤ Rz(π/2) ├─────■─────────────────────┼──────────■────────────────»\n",
       "«           └─────────┘   ┌─┴─┐   ┌─────────┐     │          │        ┌────┐  »\n",
       "«  q_9 -> 9 ──────────────┤ X ├───┤ Rz(π/2) ├─────┼──────────┼────────┤ √X ├──»\n",
       "«                         └───┘   └─────────┘   ┌─┴─┐        │     ┌──┴────┴─┐»\n",
       "«q_10 -> 10 ────────────────────────────────────┤ X ├────────┼─────┤ Rz(π/2) ├»\n",
       "«                                               └───┘      ┌─┴─┐   ├─────────┤»\n",
       "«q_11 -> 11 ───────────────────────────────────────────────┤ X ├───┤ Rz(π/2) ├»\n",
       "«           ┌─────────┐                                    └───┘   └─────────┘»\n",
       "«q_12 -> 12 ┤ Rz(π/2) ├─────■─────────────────────■───────────────────────────»\n",
       "«           └─────────┘   ┌─┴─┐   ┌─────────┐     │        ┌────┐  ┌─────────┐»\n",
       "«q_13 -> 13 ──────────────┤ X ├───┤ Rz(π/2) ├─────┼────────┤ √X ├──┤ Rz(π/2) ├»\n",
       "«            ┌───────┐    └───┘   └──┬────┬─┘     │     ┌──┴────┴─┐└─────────┘»\n",
       "«q_14 -> 14 ─┤ Rz(π) ├──────■────────┤ √X ├───────┼─────┤ Rz(π/2) ├───────────»\n",
       "«            └───────┘      │        └────┘     ┌─┴─┐   ├─────────┤   ┌────┐  »\n",
       "«q_15 -> 15 ────────────────┼───────────────────┤ X ├───┤ Rz(π/2) ├───┤ √X ├──»\n",
       "«                         ┌─┴─┐   ┌─────────┐   ├───┴┐  ├─────────┤   └────┘  »\n",
       "«q_16 -> 16 ──────────────┤ X ├───┤ Rz(π/2) ├───┤ √X ├──┤ Rz(π/2) ├───────────»\n",
       "«                         └───┘   └─────────┘   └────┘  └─────────┘           »\n",
       "«q_17 -> 17 ──────────────────────────────────────────────────────────────────»\n",
       "«              ┌────┐  ┌─────────┐                                            »\n",
       "«q_18 -> 18 ───┤ √X ├──┤ Rz(π/2) ├────────────────■───────────────────────────»\n",
       "«           ┌──┴────┴─┐└─────────┘                │                           »\n",
       "«q_19 -> 19 ┤ Rz(π/2) ├─────■─────────────────────┼──────────■────────────────»\n",
       "«           └─────────┘   ┌─┴─┐   ┌─────────┐     │          │        ┌────┐  »\n",
       "«q_20 -> 20 ──────────────┤ X ├───┤ Rz(π/2) ├─────┼──────────┼────────┤ √X ├──»\n",
       "«                         └───┘   └─────────┘   ┌─┴─┐        │     ┌──┴────┴─┐»\n",
       "«q_21 -> 21 ────────────────────────────────────┤ X ├────────┼─────┤ Rz(π/2) ├»\n",
       "«                                               └───┘      ┌─┴─┐   ├─────────┤»\n",
       "«q_22 -> 22 ───────────────────────────────────────────────┤ X ├───┤ Rz(π/2) ├»\n",
       "«           ┌─────────┐                                    └───┘   └─────────┘»\n",
       "«q_23 -> 23 ┤ Rz(π/2) ├─────■─────────────────────────────────────────────────»\n",
       "«           └─────────┘   ┌─┴─┐   ┌─────────┐   ┌────┐  ┌─────────┐           »\n",
       "«q_24 -> 24 ──────────────┤ X ├───┤ Rz(π/2) ├───┤ √X ├──┤ Rz(π/2) ├─────■─────»\n",
       "«            ┌───────┐    └───┘   └──┬────┬─┘┌──┴────┴─┐└─────────┘   ┌─┴─┐   »\n",
       "«q_25 -> 25 ─┤ Rz(π) ├──────■────────┤ √X ├──┤ Rz(π/2) ├──────────────┤ X ├───»\n",
       "«            └───────┘    ┌─┴─┐   ┌──┴────┴─┐└──┬────┬─┘┌─────────┐   └───┘   »\n",
       "«q_26 -> 26 ──────────────┤ X ├───┤ Rz(π/2) ├───┤ √X ├──┤ Rz(π/2) ├───────────»\n",
       "«                         └───┘   └─────────┘   └────┘  └─────────┘           »\n",
       "«                                                       \n",
       "«  q_0 -> 0 ────────────────────────────────────────────\n",
       "«                                                       \n",
       "«  q_1 -> 1 ────────────────────────────────────────────\n",
       "«                                                       \n",
       "«  q_2 -> 2 ────────────────────────────────────────────\n",
       "«                                                       \n",
       "«  q_3 -> 3 ────────────────────────────────────────────\n",
       "«                                                       \n",
       "«  q_4 -> 4 ────────────────────────────────────────────\n",
       "«                                                       \n",
       "«  q_5 -> 5 ────────────────────────────────────────────\n",
       "«                                                       \n",
       "«  q_6 -> 6 ────────────────────────────────────────────\n",
       "«                                                       \n",
       "«  q_7 -> 7 ────────────────────────────────────────────\n",
       "«                                                       \n",
       "«  q_8 -> 8 ────────────────────────────────────────────\n",
       "«           ┌─────────┐                                 \n",
       "«  q_9 -> 9 ┤ Rz(π/2) ├─────────────────────────────────\n",
       "«           └──┬────┬─┘┌─────────┐                      \n",
       "«q_10 -> 10 ───┤ √X ├──┤ Rz(π/2) ├──────────────────────\n",
       "«              ├────┤  ├─────────┤                      \n",
       "«q_11 -> 11 ───┤ √X ├──┤ Rz(π/2) ├──────────────────────\n",
       "«              └────┘  └─────────┘                      \n",
       "«q_12 -> 12 ────────────────────────────────────────────\n",
       "«                                                       \n",
       "«q_13 -> 13 ─────■──────────────────────────────────────\n",
       "«              ┌─┴─┐   ┌─────────┐   ┌────┐  ┌─────────┐\n",
       "«q_14 -> 14 ───┤ X ├───┤ Rz(π/2) ├───┤ √X ├──┤ Rz(π/2) ├\n",
       "«           ┌──┴───┴──┐└─────────┘   └────┘  └─────────┘\n",
       "«q_15 -> 15 ┤ Rz(π/2) ├─────────────────────────────────\n",
       "«           └─────────┘                                 \n",
       "«q_16 -> 16 ────────────────────────────────────────────\n",
       "«                                                       \n",
       "«q_17 -> 17 ────────────────────────────────────────────\n",
       "«                                                       \n",
       "«q_18 -> 18 ────────────────────────────────────────────\n",
       "«                                                       \n",
       "«q_19 -> 19 ────────────────────────────────────────────\n",
       "«           ┌─────────┐                                 \n",
       "«q_20 -> 20 ┤ Rz(π/2) ├─────────────────────────────────\n",
       "«           └──┬────┬─┘┌─────────┐                      \n",
       "«q_21 -> 21 ───┤ √X ├──┤ Rz(π/2) ├──────────────────────\n",
       "«              ├────┤  ├─────────┤                      \n",
       "«q_22 -> 22 ───┤ √X ├──┤ Rz(π/2) ├──────────────────────\n",
       "«              └────┘  └─────────┘                      \n",
       "«q_23 -> 23 ────────────────────────────────────────────\n",
       "«                                                       \n",
       "«q_24 -> 24 ────────────────────────────────────────────\n",
       "«           ┌─────────┐   ┌────┐  ┌─────────┐           \n",
       "«q_25 -> 25 ┤ Rz(π/2) ├───┤ √X ├──┤ Rz(π/2) ├───────────\n",
       "«           └─────────┘   └────┘  └─────────┘           \n",
       "«q_26 -> 26 ────────────────────────────────────────────\n",
       "«                                                       "
      ]
     },
     "execution_count": 3,
     "metadata": {},
     "output_type": "execute_result"
    }
   ],
   "source": [
    "tcirc = transpile(circ, backend, initial_layout=list(range(test.nqubits)), optimization_level=3)\n",
    "tcirc.draw()"
   ]
  },
  {
   "cell_type": "code",
   "execution_count": 44,
   "id": "1dbdc447-152d-4198-876f-dcce7f33c85e",
   "metadata": {},
   "outputs": [
    {
     "name": "stdout",
     "output_type": "stream",
     "text": [
      "\u001b[4mNegativities\u001b[0m\n",
      "[{(0, 1): 0.3385649796074559, (1, 2): 0.33915687037723097, (1, 3): 0.31020238551706336, (3, 5): 0.32846725351611483, (4, 5): 0.33074807228734643, (5, 6): 0.35625172465267996}, {(0, 1): 0.33600765457832205, (1, 2): 0.34597018146466446, (1, 3): 0.3073583483010127, (3, 5): 0.3312645688649345, (4, 5): 0.3356335327709539, (5, 6): 0.3579155502666593}, {(0, 1): 0.33835126832775464, (1, 2): 0.355865018303139, (1, 3): 0.3192276405176372, (3, 5): 0.32512204773436754, (4, 5): 0.3457341005492324, (5, 6): 0.3435104416312999}, {(0, 1): 0.34813946748769614, (1, 2): 0.35029620215054513, (1, 3): 0.3229985709163396, (3, 5): 0.3116410636374436, (4, 5): 0.3367573620550221, (5, 6): 0.3588447812332649}]\n",
      "\n",
      "\u001b[4mTime Stamps\u001b[0m\n",
      "Simulating Circuits: 4.361403703689575\n",
      "Reconstructing Density Matrices: 11.028360366821289\n",
      "Calculating Negativities: 0.0\n"
     ]
    }
   ],
   "source": [
    "backend = provider.get_backend('ibmq_jakarta')\n",
    "test = GraphState(backend)\n",
    "\n",
    "time0 = time()\n",
    "job = test.run_qst(reps=4, qrem=True, sim='device', execute_only=True)\n",
    "\n",
    "time1 = time()\n",
    "rho_dict_mit, rho_dict = test.qst_from_result(job.result(), output='all')\n",
    "\n",
    "time2 = time()\n",
    "negativities = calc_negativities(rho_dict, mode='max')\n",
    "negativities_mit = calc_negativities(rho_dict_mit, mode='max')\n",
    "\n",
    "time3 = time()\n",
    "print(\"\\033[4mNegativities\\033[0m\")\n",
    "print(negativities)\n",
    "\n",
    "print(\"\")\n",
    "print(\"\\033[4mTime Stamps\\033[0m\")\n",
    "print(f'Simulating Circuits: {time1 - time0}')\n",
    "print(f\"Reconstructing Density Matrices: {time2 - time1}\")\n",
    "print(f\"Calculating Negativities: {time3 - time2}\")"
   ]
  },
  {
   "cell_type": "code",
   "execution_count": 7,
   "id": "a6ea9c48-67ce-4355-a281-a5ed22795c77",
   "metadata": {
    "tags": []
   },
   "outputs": [],
   "source": [
    "backend = provider.get_backend('ibmq_toronto')\n",
    "job = backend.retrieve_job('62e007f6a4cdd20758511302')\n",
    "#backend = provider.get_backend('ibmq_jakarta')\n",
    "#job = backend.retrieve_job('62e0bea3c2d497582ee36c59')\n",
    "test = GraphState(backend)\n",
    "\n",
    "time0 = time()\n",
    "result = job.result()\n",
    "\n",
    "time1 = time()\n",
    "rho_dict_mit, rho_dict = test.qst_from_result(result, output='all')"
   ]
  },
  {
   "cell_type": "code",
   "execution_count": 8,
   "id": "45af3011-b0fc-4387-8f5e-f4785b3fcba6",
   "metadata": {},
   "outputs": [
    {
     "name": "stdout",
     "output_type": "stream",
     "text": [
      "\u001b[4mNegativities\u001b[0m\n",
      "{(0, 1): 0.34825913458946295, (1, 2): 0.24648133382494897, (1, 4): 0.2282879011629979, (2, 3): 0.0805130510987527, (3, 5): 0.1576271771533457, (4, 7): 0.19822335720984535, (5, 8): 0.3236912991367185, (6, 7): 0.2077293383059582, (7, 10): 0.1494273139775926, (8, 9): 0.3941071555991511, (8, 11): 0.32314110516290107, (10, 12): 0.0, (11, 14): 0.17904094808409984, (12, 13): 0.013930784594438066, (12, 15): 0.011887729356363012, (13, 14): 0.06955024341136255, (14, 16): 0.16904180098143998, (15, 18): 0.07087263950091639, (16, 19): 0.2723836533168989, (17, 18): 0.2125467960790905, (18, 21): 0.19819534422188978, (19, 20): 0.3352746266716467, (19, 22): 0.3337870772458285, (21, 23): 0.2680331933268058, (22, 25): 0.36106660434668464, (23, 24): 0.27734618608552775, (24, 25): 0.3805776914110093, (25, 26): 0.3669874940138247}\n",
      "\n",
      "\u001b[4mTime Stamps\u001b[0m\n",
      "Fetching Results: 498.42655849456787\n",
      "Reconstructing Density Matrices: 31.08736538887024\n",
      "Calculating Negativities: 0.07719039916992188\n"
     ]
    }
   ],
   "source": [
    "time2 = time()\n",
    "mode = 'max'\n",
    "negativities_mit = calc_negativities(rho_dict_mit, mode=mode)\n",
    "negativities = calc_negativities(rho_dict, mode=mode)\n",
    "\n",
    "time3 = time()\n",
    "print(\"\\033[4mNegativities\\033[0m\")\n",
    "print(negativities[0])\n",
    "\n",
    "print(\"\")\n",
    "print(\"\\033[4mTime Stamps\\033[0m\")\n",
    "print(f'Fetching Results: {time1 - time0}')\n",
    "print(f\"Reconstructing Density Matrices: {time2 - time1}\")\n",
    "print(f\"Calculating Negativities: {time3 - time2}\")"
   ]
  },
  {
   "cell_type": "code",
   "execution_count": 9,
   "id": "d70a3384-af58-4f6d-ba57-6185dcc88c6e",
   "metadata": {},
   "outputs": [],
   "source": [
    "n_mean, _ = calc_n_mean(negativities)\n",
    "n_mean_mit, _ = calc_n_mean(negativities_mit)"
   ]
  },
  {
   "cell_type": "code",
   "execution_count": 10,
   "id": "59e32b66-2abd-46fd-8985-5d20f9ed8722",
   "metadata": {},
   "outputs": [
    {
     "data": {
      "image/png": "[encoded data removed]",
      "text/plain": [
       "<Figure size 460.8x345.6 with 1 Axes>"
      ]
     },
     "metadata": {
      "needs_background": "light"
     },
     "output_type": "display_data"
    }
   ],
   "source": [
    "properties = job.properties()\n",
    "adj_edges = test.adj_edges\n",
    "fig = plot_cxerr_corr(properties, adj_edges, n_mean_mit, inc_adj=True)"
   ]
  }
 ],
 "metadata": {
  "kernelspec": {
   "display_name": "Python 3 (ipykernel)",
   "language": "python",
   "name": "python3"
  },
  "language_info": {
   "codemirror_mode": {
    "name": "ipython",
    "version": 3
   },
   "file_extension": ".py",
   "mimetype": "text/x-python",
   "name": "python",
   "nbconvert_exporter": "python",
   "pygments_lexer": "ipython3",
   "version": "3.9.12"
  }
 },
 "nbformat": 4,
 "nbformat_minor": 5
}
