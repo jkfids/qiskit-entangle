{
 "cells": [
  {
   "cell_type": "code",
   "execution_count": null,
   "id": "488e4ca5-733f-4b97-b48d-609627d82775",
   "metadata": {},
   "outputs": [],
   "source": [
    "from time import time\n",
    "\n",
    "from utilities import startup\n",
    "from graphstate import GraphState, calc_negativities, calc_n_mean\n",
    "from entangledbase import EntangleBase\n",
    "\n",
    "provider = startup()"
   ]
  },
  {
   "cell_type": "code",
   "execution_count": null,
   "id": "1dbdc447-152d-4198-876f-dcce7f33c85e",
   "metadata": {},
   "outputs": [],
   "source": [
    "backend = provider.get_backend('ibm_perth')\n",
    "test = GraphState(backend)\n",
    "\n",
    "time0 = time()\n",
    "job = test.run_qst(reps=4, qrem=True, sim='device', execute_only=True)\n",
    "\n",
    "time1 = time()\n",
    "rho_dict = test.qst_from_result(job.result())\n",
    "\n",
    "time2 = time()\n",
    "negativities = calc_negativities(rho_dict, mode='max')\n",
    "\n",
    "time3 = time()\n",
    "print(\"\\033[4mNegativities\\033[0m\")\n",
    "print(negativities)\n",
    "\n",
    "print(\"\")\n",
    "print(\"\\033[4mTime Stamps\\033[0m\")\n",
    "print(f'Simulating Circuits: {time1 - time0}')\n",
    "print(f\"Reconstructing Density Matrices: {time2 - time1}\")\n",
    "print(f\"Calculating Negativities: {time3 - time2}\")"
   ]
  },
  {
   "cell_type": "code",
   "execution_count": null,
   "id": "a6ea9c48-67ce-4355-a281-a5ed22795c77",
   "metadata": {},
   "outputs": [],
   "source": [
    "backend = provider.get_backend('ibm_cairo')\n",
    "job = backend.retrieve_job('62e006f6d5e93a5b6263784c')\n",
    "test = GraphState(backend)\n",
    "\n",
    "time0 = time()\n",
    "result = job.result()\n",
    "\n",
    "time1 = time()\n",
    "rho_dict_mit, rho_dict = test.qst_from_result(result, output='all')\n",
    "\n",
    "time2 = time()\n",
    "negativities_mit = calc_negativities(rho_dict_mit, mode='max')\n",
    "negativities = calc_negativities(rho_dict, mode='max')\n",
    "\n",
    "time3 = time()\n",
    "print(\"\\033[4mNegativities\\033[0m\")\n",
    "for n in negativities: print(n)\n",
    "\n",
    "print(\"\")\n",
    "print(\"\\033[4mTime Stamps\\033[0m\")\n",
    "print(f'Fetching Results: {time1 - time0}')\n",
    "print(f\"Reconstructing Density Matrices: {time2 - time1}\")\n",
    "print(f\"Calculating Negativities: {time3 - time2}\")"
   ]
  },
  {
   "cell_type": "code",
   "execution_count": null,
   "id": "d70a3384-af58-4f6d-ba57-6185dcc88c6e",
   "metadata": {},
   "outputs": [],
   "source": [
    "n_mean, _ = calc_n_mean(negativities)\n",
    "n_mean_mit, _ = calc_n_mean(negativities_mit)\n",
    "\n",
    "del n_mean_mit[(7, 10)]\n",
    "del n_mean[(7, 10)]"
   ]
  }
 ],
 "metadata": {
  "kernelspec": {
   "display_name": "Python 3 (ipykernel)",
   "language": "python",
   "name": "python3"
  },
  "language_info": {
   "codemirror_mode": {
    "name": "ipython",
    "version": 3
   },
   "file_extension": ".py",
   "mimetype": "text/x-python",
   "name": "python",
   "nbconvert_exporter": "python",
   "pygments_lexer": "ipython3",
   "version": "3.9.12"
  }
 },
 "nbformat": 4,
 "nbformat_minor": 5
}
