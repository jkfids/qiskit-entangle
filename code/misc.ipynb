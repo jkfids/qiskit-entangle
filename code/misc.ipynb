{
 "cells": [
  {
   "cell_type": "code",
   "execution_count": 22,
   "id": "c66fee33-1b7e-4d97-836f-d984df9901a4",
   "metadata": {},
   "outputs": [
    {
     "name": "stdout",
     "output_type": "stream",
     "text": [
      "Account enabled\n"
     ]
    }
   ],
   "source": [
    "from utilities import startup\n",
    "import numpy as np\n",
    "provider = startup(check=False)"
   ]
  },
  {
   "cell_type": "code",
   "execution_count": 2,
   "id": "45ec5347-4797-4031-8a73-6d87ff26c525",
   "metadata": {},
   "outputs": [
    {
     "data": {
      "text/plain": [
       "[<IBMQBackend('ibmq_montreal') from IBMQ(hub='ibm-q-melbourne', group='unimelb', project='hub')>,\n",
       " <IBMQBackend('ibmq_toronto') from IBMQ(hub='ibm-q-melbourne', group='unimelb', project='hub')>,\n",
       " <IBMQBackend('ibmq_kolkata') from IBMQ(hub='ibm-q-melbourne', group='unimelb', project='hub')>,\n",
       " <IBMQBackend('ibmq_mumbai') from IBMQ(hub='ibm-q-melbourne', group='unimelb', project='hub')>,\n",
       " <IBMQBackend('ibmq_lima') from IBMQ(hub='ibm-q-melbourne', group='unimelb', project='hub')>,\n",
       " <IBMQBackend('ibmq_belem') from IBMQ(hub='ibm-q-melbourne', group='unimelb', project='hub')>,\n",
       " <IBMQBackend('ibmq_quito') from IBMQ(hub='ibm-q-melbourne', group='unimelb', project='hub')>,\n",
       " <IBMQBackend('ibmq_guadalupe') from IBMQ(hub='ibm-q-melbourne', group='unimelb', project='hub')>,\n",
       " <IBMQBackend('ibmq_jakarta') from IBMQ(hub='ibm-q-melbourne', group='unimelb', project='hub')>,\n",
       " <IBMQBackend('ibmq_manila') from IBMQ(hub='ibm-q-melbourne', group='unimelb', project='hub')>,\n",
       " <IBMQBackend('ibm_hanoi') from IBMQ(hub='ibm-q-melbourne', group='unimelb', project='hub')>,\n",
       " <IBMQBackend('ibm_lagos') from IBMQ(hub='ibm-q-melbourne', group='unimelb', project='hub')>,\n",
       " <IBMQBackend('ibm_nairobi') from IBMQ(hub='ibm-q-melbourne', group='unimelb', project='hub')>,\n",
       " <IBMQBackend('ibm_cairo') from IBMQ(hub='ibm-q-melbourne', group='unimelb', project='hub')>,\n",
       " <IBMQBackend('ibm_auckland') from IBMQ(hub='ibm-q-melbourne', group='unimelb', project='hub')>,\n",
       " <IBMQBackend('ibm_perth') from IBMQ(hub='ibm-q-melbourne', group='unimelb', project='hub')>,\n",
       " <IBMQBackend('ibm_washington') from IBMQ(hub='ibm-q-melbourne', group='unimelb', project='hub')>,\n",
       " <IBMQBackend('ibm_oslo') from IBMQ(hub='ibm-q-melbourne', group='unimelb', project='hub')>,\n",
       " <IBMQBackend('ibm_geneva') from IBMQ(hub='ibm-q-melbourne', group='unimelb', project='hub')>]"
      ]
     },
     "execution_count": 2,
     "metadata": {},
     "output_type": "execute_result"
    }
   ],
   "source": [
    "provider.backends()"
   ]
  },
  {
   "cell_type": "code",
   "execution_count": 20,
   "id": "8c5da1d2-c8bd-4613-81ba-4b7d11627d9c",
   "metadata": {},
   "outputs": [
    {
     "name": "stdout",
     "output_type": "stream",
     "text": [
      "Mean readout error ibmq_montreal: 0.039714814814814814\n",
      "Mean readout error ibmq_toronto: 0.04134814814814815\n",
      "Mean readout error ibmq_kolkata: 0.024781481481481474\n",
      "Mean readout error ibmq_mumbai: 0.02645555555555556\n",
      "Mean readout error ibmq_lima: 0.03374000000000001\n",
      "Mean readout error ibmq_belem: 0.04606000000000001\n",
      "Mean readout error ibmq_quito: 0.052159999999999984\n",
      "Mean readout error ibmq_guadalupe: 0.02111875\n",
      "Mean readout error ibmq_jakarta: 0.0403142857142857\n",
      "Mean readout error ibmq_manila: 0.022419999999999975\n",
      "Mean readout error ibm_hanoi: 0.01849999999999999\n",
      "Mean readout error ibm_lagos: 0.010542857142857123\n",
      "Mean readout error ibm_nairobi: 0.025871428571428563\n",
      "Mean readout error ibm_cairo: 0.01660370370370369\n",
      "Mean readout error ibm_auckland: 0.02034074074074075\n",
      "Mean readout error ibm_perth: 0.020457142857142823\n",
      "Mean readout error ibm_washington: 0.03516062992125983\n",
      "Mean readout error ibm_oslo: 0.015257142857142827\n",
      "Mean readout error ibm_geneva: 0.034844444444444435\n"
     ]
    }
   ],
   "source": [
    "for backend in provider.backends():\n",
    "    properties = backend.properties()\n",
    "    nqubits = len(properties.qubits)\n",
    "    errors = np.zeros(nqubits)\n",
    "    for i in range(nqubits):\n",
    "        errors[i] = properties.readout_error(i)\n",
    "        \n",
    "    mean_error = np.mean(errors)\n",
    "    print(f'Mean readout error {backend.name()}: {mean_error}')"
   ]
  },
  {
   "cell_type": "code",
   "execution_count": 4,
   "id": "339c2ebc-bd66-44c2-9c3e-8e3d1128e630",
   "metadata": {},
   "outputs": [],
   "source": [
    "from qiskit_ibm_provider import IBMProvider\n",
    "from qiskit_ibm_provider.utils.backend_decoder import configuration_from_server_data"
   ]
  },
  {
   "cell_type": "code",
   "execution_count": 23,
   "id": "ad79acb1-5cef-4cb6-ac70-7bc73a19db6e",
   "metadata": {},
   "outputs": [
    {
     "data": {
      "text/plain": [
       "[<IBMBackend('ibm_hanoi')>,\n",
       " <IBMBackend('ibmq_belem')>,\n",
       " <IBMBackend('ibmq_guadalupe')>,\n",
       " <IBMBackend('simulator_mps')>,\n",
       " <IBMBackend('ibm_cairo')>,\n",
       " <IBMBackend('ibm_lagos')>,\n",
       " <IBMBackend('ibmq_lima')>,\n",
       " <IBMBackend('ibmq_manila')>,\n",
       " <IBMBackend('ibmq_kolkata')>,\n",
       " <IBMBackend('ibm_washington')>,\n",
       " <IBMBackend('ibmq_mumbai')>,\n",
       " <IBMBackend('ibm_nairobi')>,\n",
       " <IBMBackend('ibm_sherbrooke')>,\n",
       " <IBMBackend('simulator_extended_stabilizer')>,\n",
       " <IBMBackend('simulator_statevector')>,\n",
       " <IBMBackend('ibm_brisbane')>,\n",
       " <IBMBackend('ibm_auckland')>,\n",
       " <IBMBackend('ibm_perth')>,\n",
       " <IBMBackend('ibmq_jakarta')>,\n",
       " <IBMBackend('ibmq_quito')>,\n",
       " <IBMBackend('ibmq_qasm_simulator')>,\n",
       " <IBMBackend('simulator_stabilizer')>,\n",
       " <IBMBackend('ibm_seattle')>,\n",
       " <IBMBackend('ibm_oslo')>]"
      ]
     },
     "execution_count": 23,
     "metadata": {},
     "output_type": "execute_result"
    }
   ],
   "source": [
    "provider.get_bac"
   ]
  }
 ],
 "metadata": {
  "kernelspec": {
   "display_name": "Python 3 (ipykernel)",
   "language": "python",
   "name": "python3"
  },
  "language_info": {
   "codemirror_mode": {
    "name": "ipython",
    "version": 3
   },
   "file_extension": ".py",
   "mimetype": "text/x-python",
   "name": "python",
   "nbconvert_exporter": "python",
   "pygments_lexer": "ipython3",
   "version": "3.9.12"
  }
 },
 "nbformat": 4,
 "nbformat_minor": 5
}
